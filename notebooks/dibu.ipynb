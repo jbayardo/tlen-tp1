{
 "cells": [
  {
   "cell_type": "code",
   "execution_count": 1,
   "metadata": {
    "collapsed": false
   },
   "outputs": [
    {
     "name": "stderr",
     "output_type": "stream",
     "text": [
      "lex: tokens   = ['IDENTIFIER', 'STRING', 'NUMBER', 'KEY', 'COMMA', 'EQUALS', 'LBRACKET', 'RBRACKET', 'LPAREN', 'RPAREN', 'NEWLINE']\n",
      "lex: literals = ''\n",
      "lex: states   = {'INITIAL': 'inclusive'}\n",
      "lex: Adding rule t_NUMBER -> '\\d+' (state 'INITIAL')\n",
      "lex: Adding rule t_NEWLINE -> '\\n+' (state 'INITIAL')\n",
      "lex: Adding rule t_IDENTIFIER -> '(size|rectangle|line|circle|ellipse|polyline|polygon|text)' (state 'INITIAL')\n",
      "lex: Adding rule t_STRING -> '\\\"([^\\\\\\n]|(\\\\.))*?\\\"' (state 'INITIAL')\n",
      "lex: Adding rule t_KEY -> '\\w[\\w\\d_-]*' (state 'INITIAL')\n",
      "lex: Adding rule t_RPAREN -> '\\)' (state 'INITIAL')\n",
      "lex: Adding rule t_RBRACKET -> '\\]' (state 'INITIAL')\n",
      "lex: Adding rule t_LPAREN -> '\\(' (state 'INITIAL')\n",
      "lex: Adding rule t_LBRACKET -> '\\[' (state 'INITIAL')\n",
      "lex: Adding rule t_EQUALS -> '=' (state 'INITIAL')\n",
      "lex: Adding rule t_COMMA -> ',' (state 'INITIAL')\n",
      "lex: ==== MASTER REGEXS FOLLOW ====\n",
      "lex: state 'INITIAL' : regex[0] = '(?P<t_NUMBER>\\d+)|(?P<t_NEWLINE>\\n+)|(?P<t_IDENTIFIER>(size|rectangle|line|circle|ellipse|polyline|polygon|text))|(?P<t_STRING>\\\"([^\\\\\\n]|(\\\\.))*?\\\")|(?P<t_KEY>\\w[\\w\\d_-]*)|(?P<t_RPAREN>\\))|(?P<t_RBRACKET>\\])|(?P<t_LPAREN>\\()|(?P<t_LBRACKET>\\[)|(?P<t_EQUALS>=)|(?P<t_COMMA>,)'\n",
      "WARNING: Token 'NEWLINE' defined, but not used\n",
      "WARNING: There is 1 unused token\n",
      "Generating LALR tables\n"
     ]
    }
   ],
   "source": [
    "import sys\n",
    "sys.path.append(\"..\")\n",
    "\n",
    "from IPython.display import SVG, display\n",
    "from dibu import parse\n",
    "from xml.dom.minidom import parseString as xmlParse"
   ]
  },
  {
   "cell_type": "code",
   "execution_count": 3,
   "metadata": {
    "collapsed": false
   },
   "outputs": [],
   "source": [
    "from dibu import parser\n",
    "from dibu import lexer\n",
    "def show(dibu_prog):\n",
    "    output = parse(dibu_prog)\n",
    "    pretty_xml = xmlParse(output).toprettyxml()\n",
    "    print(pretty_xml)\n",
    "    return SVG(output)\n",
    "\n",
    "parser.parse(\n",
    "    ('size height=100, width=300'\n",
    "     'rectangle height=3'\n",
    "    )\n",
    ")\n"
   ]
  },
  {
   "cell_type": "code",
   "execution_count": null,
   "metadata": {
    "collapsed": false
   },
   "outputs": [],
   "source": [
    "\n",
    "show('''\n",
    "    size height=100, width=100\n",
    "    circle center=(50, 50), radius=50, fill=\"red\"\n",
    "    circle center=(50, 50), radius=25, fill=\"black\"\n",
    "''')"
   ]
  },
  {
   "cell_type": "code",
   "execution_count": null,
   "metadata": {
    "collapsed": false
   },
   "outputs": [],
   "source": [
    "show('''\n",
    "    rectangle upper_left=(0,0), size=(200, 200), fill=\"yellow\"\n",
    "    polygon points=[(0,0), (50, 50), (0, 100)], style=\"stroke: black; stroke-width: 3; fill: none;\" \n",
    "    polygon points=[(0,0), (50, 50), (100, 0)], style=\"stroke: black; stroke-width: 3; fill: none;\" \n",
    "    polygon points=[(0, 100), (50, 150), (0, 200)], style=\"stroke: black; stroke-width: 3; fill: none;\" \n",
    "    polygon points=[(0, 200), (50, 150), (100, 200)], style=\"stroke: black; stroke-width: 3; fill: none;\" \n",
    "    polygon points=[(100, 200), (150, 150), (200, 200)], style=\"stroke: black; stroke-width: 3; fill: none;\"   \n",
    "    polygon points=[(200, 200), (150, 150), (200, 100)], style=\"stroke: black; stroke-width: 3; fill: none;\"\n",
    "    polygon points=[(200, 100), (150, 50), (200, 0)], style=\"stroke: black; stroke-width: 3; fill: none;\"\n",
    "    \n",
    "    polygon points=[(200, 0), (150, 50), (100, 0)], style=\"stroke: black; stroke-width: 3; fill: none;\"\n",
    "''')"
   ]
  }
 ],
 "metadata": {
  "anaconda-cloud": {},
  "kernelspec": {
   "display_name": "Python [default]",
   "language": "python",
   "name": "python3"
  },
  "language_info": {
   "codemirror_mode": {
    "name": "ipython",
    "version": 3
   },
   "file_extension": ".py",
   "mimetype": "text/x-python",
   "name": "python",
   "nbconvert_exporter": "python",
   "pygments_lexer": "ipython3",
   "version": "3.5.2"
  }
 },
 "nbformat": 4,
 "nbformat_minor": 1
}
