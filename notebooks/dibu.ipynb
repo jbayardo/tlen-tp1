{
 "cells": [
  {
   "cell_type": "code",
   "execution_count": 5,
   "metadata": {
    "collapsed": false
   },
   "outputs": [],
   "source": [
    "import sys\n",
    "sys.path.append(\"..\")\n",
    "\n",
    "from IPython.display import SVG, display\n",
    "from dibu import parse\n",
    "from xml.dom.minidom import parseString as xmlParse"
   ]
  },
  {
   "cell_type": "code",
   "execution_count": 6,
   "metadata": {
    "collapsed": false
   },
   "outputs": [
    {
     "data": {
      "text/plain": [
       "'<svg xmlns=\"http://www.w3.org/2000/svg\" version=\"1.1\" width=\"300\" height=\"100\">\\n<rect x=\"3\" y=\"4\" height=\"5\" width=\"3\"/>\\n</svg>'"
      ]
     },
     "execution_count": 6,
     "metadata": {},
     "output_type": "execute_result"
    }
   ],
   "source": [
    "from dibu import parser\n",
    "from dibu import lexer\n",
    "def show(dibu_prog):\n",
    "    output = parse(dibu_prog)\n",
    "    pretty_xml = xmlParse(output).toprettyxml()\n",
    "    print(pretty_xml)\n",
    "    return SVG(output)\n",
    "\n",
    "parser.parse(\n",
    "    ('size height=100, width=300'\n",
    "     'rectangle upper_left=(3,4), width=3, height=5'\n",
    "    )\n",
    ")\n"
   ]
  },
  {
   "cell_type": "code",
   "execution_count": 7,
   "metadata": {
    "collapsed": false
   },
   "outputs": [
    {
     "name": "stdout",
     "output_type": "stream",
     "text": [
      "<?xml version=\"1.0\" ?>\n",
      "<svg height=\"100\" version=\"1.1\" width=\"100\" xmlns=\"http://www.w3.org/2000/svg\">\n",
      "\t\n",
      "\n",
      "\t<circle cx=\"50\" cy=\"50\" fill=\"red\" r=\"50\"/>\n",
      "\t\n",
      "\n",
      "\t<circle cx=\"50\" cy=\"50\" fill=\"black\" r=\"25\"/>\n",
      "\t\n",
      "\n",
      "</svg>\n",
      "\n"
     ]
    },
    {
     "data": {
      "image/svg+xml": [
       "<svg height=\"100\" version=\"1.1\" width=\"100\" xmlns=\"http://www.w3.org/2000/svg\">\n",
       "<circle cx=\"50\" cy=\"50\" fill=\"red\" r=\"50\"/>\n",
       "<circle cx=\"50\" cy=\"50\" fill=\"black\" r=\"25\"/>\n",
       "</svg>"
      ],
      "text/plain": [
       "<IPython.core.display.SVG object>"
      ]
     },
     "execution_count": 7,
     "metadata": {},
     "output_type": "execute_result"
    }
   ],
   "source": [
    "\n",
    "show('''\n",
    "    size height=100, width=100\n",
    "    circle center=(50, 50), radius=50, fill=\"red\"\n",
    "    circle center=(50, 50), radius=25, fill=\"black\"\n",
    "''')"
   ]
  },
  {
   "cell_type": "code",
   "execution_count": 8,
   "metadata": {
    "collapsed": false
   },
   "outputs": [
    {
     "name": "stdout",
     "output_type": "stream",
     "text": [
      "<?xml version=\"1.0\" ?>\n",
      "<svg height=\"200\" version=\"1.1\" width=\"200\" xmlns=\"http://www.w3.org/2000/svg\">\n",
      "\t\n",
      "\n",
      "\t<rect fill=\"yellow\" height=\"200\" width=\"200\" x=\"0\" y=\"0\"/>\n",
      "\t\n",
      "\n",
      "\t<polygon fill=\"none\" points=\"0,0 50,50 0,100\" stroke=\"black\" stroke-width=\"3\"/>\n",
      "\t\n",
      "\n",
      "\t<polygon fill=\"none\" points=\"0,0 50,50 100,0\" stroke=\"black\" stroke-width=\"3\"/>\n",
      "\t\n",
      "\n",
      "\t<polygon fill=\"none\" points=\"0,100 50,150 0,200\" stroke=\"black\" stroke-width=\"3\"/>\n",
      "\t\n",
      "\n",
      "\t<polygon fill=\"none\" points=\"0,200 50,150 100,200\" stroke=\"black\" stroke-width=\"3\"/>\n",
      "\t\n",
      "\n",
      "\t<polygon fill=\"none\" points=\"100,200 150,150 200,200\" stroke=\"black\" stroke-width=\"3\"/>\n",
      "\t\n",
      "\n",
      "\t<polygon fill=\"none\" points=\"200,200 150,150 200,100\" stroke=\"black\" stroke-width=\"3\"/>\n",
      "\t\n",
      "\n",
      "\t<polygon fill=\"none\" points=\"200,100 150,50 200,0\" stroke=\"black\" stroke-width=\"3\"/>\n",
      "\t\n",
      "\n",
      "\t<polygon fill=\"none\" points=\"200,0 150,50 100,0\" stroke=\"black\" stroke-width=\"3\"/>\n",
      "\t\n",
      "\n",
      "</svg>\n",
      "\n"
     ]
    },
    {
     "data": {
      "image/svg+xml": [
       "<svg height=\"200\" version=\"1.1\" width=\"200\" xmlns=\"http://www.w3.org/2000/svg\">\n",
       "<rect fill=\"yellow\" height=\"200\" width=\"200\" x=\"0\" y=\"0\"/>\n",
       "<polygon fill=\"none\" points=\"0,0 50,50 0,100\" stroke=\"black\" stroke-width=\"3\"/>\n",
       "<polygon fill=\"none\" points=\"0,0 50,50 100,0\" stroke=\"black\" stroke-width=\"3\"/>\n",
       "<polygon fill=\"none\" points=\"0,100 50,150 0,200\" stroke=\"black\" stroke-width=\"3\"/>\n",
       "<polygon fill=\"none\" points=\"0,200 50,150 100,200\" stroke=\"black\" stroke-width=\"3\"/>\n",
       "<polygon fill=\"none\" points=\"100,200 150,150 200,200\" stroke=\"black\" stroke-width=\"3\"/>\n",
       "<polygon fill=\"none\" points=\"200,200 150,150 200,100\" stroke=\"black\" stroke-width=\"3\"/>\n",
       "<polygon fill=\"none\" points=\"200,100 150,50 200,0\" stroke=\"black\" stroke-width=\"3\"/>\n",
       "<polygon fill=\"none\" points=\"200,0 150,50 100,0\" stroke=\"black\" stroke-width=\"3\"/>\n",
       "</svg>"
      ],
      "text/plain": [
       "<IPython.core.display.SVG object>"
      ]
     },
     "execution_count": 8,
     "metadata": {},
     "output_type": "execute_result"
    }
   ],
   "source": [
    "show('''\n",
    "    size height=200, width=200 \n",
    "    rectangle upper_left=(0,0), width=200, height=200, fill=\"yellow\"\n",
    "    polygon points=[(0,0), (50, 50), (0, 100)], stroke=\"black\", stroke-width=3, fill=\"none\" \n",
    "    polygon points=[(0,0), (50, 50), (100, 0)], stroke=\"black\", stroke-width=3, fill=\"none\" \n",
    "    polygon points=[(0, 100), (50, 150), (0, 200)], stroke=\"black\", stroke-width=3, fill=\"none\" \n",
    "    polygon points=[(0, 200), (50, 150), (100, 200)], stroke=\"black\", stroke-width=3, fill=\"none\" \n",
    "    polygon points=[(100, 200), (150, 150), (200, 200)], stroke=\"black\", stroke-width=3, fill=\"none\"   \n",
    "    polygon points=[(200, 200), (150, 150), (200, 100)], stroke=\"black\", stroke-width=3, fill=\"none\"\n",
    "    polygon points=[(200, 100), (150, 50), (200, 0)], stroke=\"black\", stroke-width=3, fill=\"none\"\n",
    "    \n",
    "    polygon points=[(200, 0), (150, 50), (100, 0)], stroke=\"black\", stroke-width=3, fill=\"none\"\n",
    "''')"
   ]
  },
  {
   "cell_type": "code",
   "execution_count": null,
   "metadata": {
    "collapsed": true
   },
   "outputs": [],
   "source": []
  }
 ],
 "metadata": {
  "anaconda-cloud": {},
  "kernelspec": {
   "display_name": "Python 3",
   "language": "python",
   "name": "python3"
  },
  "language_info": {
   "codemirror_mode": {
    "name": "ipython",
    "version": 3
   },
   "file_extension": ".py",
   "mimetype": "text/x-python",
   "name": "python",
   "nbconvert_exporter": "python",
   "pygments_lexer": "ipython3",
   "version": "3.5.1"
  }
 },
 "nbformat": 4,
 "nbformat_minor": 1
}
